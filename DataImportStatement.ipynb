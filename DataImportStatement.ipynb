{
 "cells": [
  {
   "cell_type": "code",
   "execution_count": 1,
   "metadata": {},
   "outputs": [],
   "source": [
    "## Updates"
   ]
  },
  {
   "cell_type": "code",
   "execution_count": null,
   "metadata": {},
   "outputs": [],
   "source": [
    "#Loading the file this way prevents all the A^ characters we don't want. \n",
    "datafile = 'data/30TestTweets.csv'\n",
    "data = pd.read_csv(datafile)\n",
    "original_data = pd.read_csv(datafile)\n",
    "data['text'] = data.iloc[:,6].str.encode('ascii', 'ignore').str.decode('unicode_escape')\n",
    "\n",
    "#Before: \"I don‚Äôt care how trendy it gets, but you wi...\"\n",
    "#After: \"I dont care how trendy it gets, but you will N\"\n",
    "#Ask Xinyi about character counting after this"
   ]
  }
 ],
 "metadata": {
  "kernelspec": {
   "display_name": "Python 3",
   "language": "python",
   "name": "python3"
  },
  "language_info": {
   "codemirror_mode": {
    "name": "ipython",
    "version": 3
   },
   "file_extension": ".py",
   "mimetype": "text/x-python",
   "name": "python",
   "nbconvert_exporter": "python",
   "pygments_lexer": "ipython3",
   "version": "3.7.3"
  }
 },
 "nbformat": 4,
 "nbformat_minor": 2
}
