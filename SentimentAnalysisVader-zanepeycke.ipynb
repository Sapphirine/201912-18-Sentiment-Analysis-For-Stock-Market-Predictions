{
 "cells": [
  {
   "cell_type": "code",
   "execution_count": 29,
   "metadata": {},
   "outputs": [],
   "source": [
    "import pandas as pd\n",
    "import nltk\n",
    "# nltk.download('vader_lexicon')\n",
    "from nltk.sentiment.vader import SentimentIntensityAnalyzer\n",
    "from sklearn.model_selection import train_test_split\n",
    "import re as regex\n",
    "import numpy as np\n",
    "import pandas as pd\n",
    "import datetime\n",
    "import pandas_datareader.data as web\n",
    "import yfinance as yf\n",
    "from sklearn.linear_model import LinearRegression\n",
    "from sklearn.discriminant_analysis import LinearDiscriminantAnalysis\n",
    "from sklearn.ensemble import RandomForestRegressor\n",
    "from pylab import rcParams\n",
    "import matplotlib.pyplot as plt\n",
    "import os\n",
    "import time\n",
    "import warnings\n",
    "warnings.simplefilter(action='ignore', category=FutureWarning)\n",
    "warnings.filterwarnings(\"ignore\")\n",
    "t0 = time.time()"
   ]
  },
  {
   "cell_type": "code",
   "execution_count": 2,
   "metadata": {},
   "outputs": [],
   "source": [
    "# Be aware the full processing takes around 35minutes locally on 2019 13\" MBP\n",
    "# Speed is significantly increased when using Google Cloud Platform Custers\n",
    "# But best results still happened in 10-15 minutes. \n",
    "\n",
    "# Import the data and start processing\n",
    "url = \"http://peyck.es/BDA_Project/oct18-oct19.csv\"\n",
    "data = pd.read_csv(url)\n",
    "\n",
    "\n",
    "data['text'] = data['text'].str.replace('\\\\','')\n",
    "data['text'] = data.iloc[:,6].str.encode('ascii', 'ignore').str.decode('unicode_escape')"
   ]
  },
  {
   "cell_type": "code",
   "execution_count": 3,
   "metadata": {},
   "outputs": [],
   "source": [
    "# Uncomment and change names if working with a new dataset\n",
    "columns_to_keep = ['date','text']\n",
    "data = data[columns_to_keep]\n",
    "\n",
    "# Save a local copy for more processing later\n",
    "data.to_csv(\"data/Processed_TwitterData_oct18-oct19.csv\")\n",
    "datafile = 'data/Processed_TwitterData_oct18-oct19.csv'"
   ]
  },
  {
   "cell_type": "code",
   "execution_count": 5,
   "metadata": {},
   "outputs": [],
   "source": [
    "# This cell is a modified version of Marcin Zablocki's Code\n",
    "# Original code and a great sentiment tutorial is available here\n",
    "# https://zablo.net/blog/post/twitter-sentiment-analysis-python-scikit-word2vec-nltk-xgboost/\n",
    "\n",
    "\n",
    "class TwitterData_Initialize():\n",
    "    data = []\n",
    "    processed_data = []\n",
    "    wordlist = []\n",
    "\n",
    "    data_model = None\n",
    "    data_labels = None\n",
    "    is_testing = False\n",
    "    \n",
    "    def initialize(self, csv_file, is_testing_set=False, from_cached=None):\n",
    "        if from_cached is not None:\n",
    "            self.data_model = pd.read_csv(from_cached)\n",
    "            return\n",
    "        self.data = pd.read_csv(csv_file, header=0, names=[\"date\", \"text\"])\n",
    "        not_null_text = 1 ^ pd.isnull(self.data[\"text\"])\n",
    "        not_null_date = 1 ^ pd.isnull(self.data[\"date\"])\n",
    "        self.data = self.data.loc[not_null_date & not_null_text, :]\n",
    "\n",
    "        self.processed_data = self.data\n",
    "        self.wordlist = []\n",
    "        self.data_model = None\n",
    "        self.data_labels = None\n",
    "        \n",
    "class TwitterCleanuper:\n",
    "    def iterate(self):\n",
    "        for cleanup_method in [self.remove_urls,\n",
    "                               self.remove_usernames,\n",
    "                               self.remove_na,\n",
    "                               self.remove_special_chars,\n",
    "                               self.remove_numbers]:\n",
    "            yield cleanup_method\n",
    "\n",
    "    @staticmethod\n",
    "    def remove_by_regex(tweets, regexp):\n",
    "        tweets.loc[:, \"text\"].replace(regexp, \"\", inplace=True)\n",
    "        return tweets\n",
    "\n",
    "    def remove_urls(self, tweets):\n",
    "        return TwitterCleanuper.remove_by_regex(tweets, regex.compile(r\"http.?://[^\\s]+[\\s]?\"))\n",
    "\n",
    "    def remove_na(self, tweets):\n",
    "        return tweets[tweets[\"text\"] != \"Not Available\"]\n",
    "\n",
    "    def remove_special_chars(self, tweets):  # it unrolls the hashtags to normal words\n",
    "        for remove in map(lambda r: regex.compile(regex.escape(r)), [\",\", \":\", \"\\\"\", \"=\", \"&\", \";\", \"%\", \"$\",\n",
    "                                                                     \"@\", \"%\", \"^\", \"*\", \"(\", \")\", \"{\", \"}\",\n",
    "                                                                     \"[\", \"]\", \"|\", \"/\", \"\\\\\", \">\", \"<\", \"-\",\n",
    "                                                                     \"?\", \".\", \"'\",\n",
    "                                                                     \"--\", \"---\", \"#\"]):\n",
    "            tweets.loc[:, \"text\"].replace(remove, \"\", inplace=True)\n",
    "        return tweets\n",
    "\n",
    "    def remove_usernames(self, tweets):\n",
    "        return TwitterCleanuper.remove_by_regex(tweets, regex.compile(r\"@[^\\s]+[\\s]?\"))\n",
    "\n",
    "    def remove_numbers(self, tweets):\n",
    "        return TwitterCleanuper.remove_by_regex(tweets, regex.compile(r\"\\s?[0-9]+\\.?[0-9]*\"))\n",
    "    \n",
    "class TwitterData_Cleansing(TwitterData_Initialize):\n",
    "    def __init__(self, previous):\n",
    "        self.processed_data = previous.processed_data\n",
    "        \n",
    "    def cleanup(self, cleanuper):\n",
    "        t = self.processed_data\n",
    "        for cleanup_method in cleanuper.iterate():\n",
    "            if not self.is_testing:\n",
    "                t = cleanup_method(t)\n",
    "            else:\n",
    "                if cleanup_method.__name__ != \"remove_na\":\n",
    "                    t = cleanup_method(t)\n",
    "\n",
    "        self.processed_data = t"
   ]
  },
  {
   "cell_type": "code",
   "execution_count": 6,
   "metadata": {},
   "outputs": [],
   "source": [
    "# Run the cell above on our full year of data\n",
    "cleanText = TwitterData_Initialize()\n",
    "cleanText.initialize(datafile)"
   ]
  },
  {
   "cell_type": "code",
   "execution_count": 7,
   "metadata": {},
   "outputs": [],
   "source": [
    "# Checking to make sure format is correct\n",
    "cleanText.processed_data.head(10)"
   ]
  },
  {
   "cell_type": "code",
   "execution_count": 10,
   "metadata": {},
   "outputs": [
    {
     "data": {
      "text/html": [
       "<div>\n",
       "<style scoped>\n",
       "    .dataframe tbody tr th:only-of-type {\n",
       "        vertical-align: middle;\n",
       "    }\n",
       "\n",
       "    .dataframe tbody tr th {\n",
       "        vertical-align: top;\n",
       "    }\n",
       "\n",
       "    .dataframe thead th {\n",
       "        text-align: right;\n",
       "    }\n",
       "</style>\n",
       "<table border=\"1\" class=\"dataframe\">\n",
       "  <thead>\n",
       "    <tr style=\"text-align: right;\">\n",
       "      <th></th>\n",
       "      <th>date</th>\n",
       "      <th>text</th>\n",
       "      <th>polarity_value</th>\n",
       "      <th>neg</th>\n",
       "      <th>pos</th>\n",
       "      <th>neu</th>\n",
       "      <th>compound</th>\n",
       "    </tr>\n",
       "  </thead>\n",
       "  <tbody>\n",
       "    <tr>\n",
       "      <td>4430888</td>\n",
       "      <td>3/31/19 23:59</td>\n",
       "      <td>as long as they keep getting checks from Nike!</td>\n",
       "      <td>{'neg': 0.0, 'neu': 1.0, 'pos': 0.0, 'compound...</td>\n",
       "      <td>0.0</td>\n",
       "      <td>0.000</td>\n",
       "      <td>1.000</td>\n",
       "      <td>0.0000</td>\n",
       "    </tr>\n",
       "    <tr>\n",
       "      <td>4430889</td>\n",
       "      <td>3/31/19 23:59</td>\n",
       "      <td>NFLShop - The Official Online Shop of the NFL ...</td>\n",
       "      <td>{'neg': 0.0, 'neu': 1.0, 'pos': 0.0, 'compound...</td>\n",
       "      <td>0.0</td>\n",
       "      <td>0.000</td>\n",
       "      <td>1.000</td>\n",
       "      <td>0.0000</td>\n",
       "    </tr>\n",
       "    <tr>\n",
       "      <td>4430890</td>\n",
       "      <td>3/31/19 23:59</td>\n",
       "      <td>New Uniforms are in! Thanks @Nike @ToBrad1 we ...</td>\n",
       "      <td>{'neg': 0.0, 'neu': 0.739, 'pos': 0.261, 'comp...</td>\n",
       "      <td>0.0</td>\n",
       "      <td>0.261</td>\n",
       "      <td>0.739</td>\n",
       "      <td>0.6467</td>\n",
       "    </tr>\n",
       "    <tr>\n",
       "      <td>4430891</td>\n",
       "      <td>3/31/19 23:59</td>\n",
       "      <td>There's obviously a good chance that I'm going...</td>\n",
       "      <td>{'neg': 0.0, 'neu': 0.712, 'pos': 0.288, 'comp...</td>\n",
       "      <td>0.0</td>\n",
       "      <td>0.288</td>\n",
       "      <td>0.712</td>\n",
       "      <td>0.7964</td>\n",
       "    </tr>\n",
       "    <tr>\n",
       "      <td>4430892</td>\n",
       "      <td>3/31/19 23:59</td>\n",
       "      <td>Check out what I just added to my closet on Po...</td>\n",
       "      <td>{'neg': 0.0, 'neu': 1.0, 'pos': 0.0, 'compound...</td>\n",
       "      <td>0.0</td>\n",
       "      <td>0.000</td>\n",
       "      <td>1.000</td>\n",
       "      <td>0.0000</td>\n",
       "    </tr>\n",
       "  </tbody>\n",
       "</table>\n",
       "</div>"
      ],
      "text/plain": [
       "                  date                                               text  \\\n",
       "4430888  3/31/19 23:59     as long as they keep getting checks from Nike!   \n",
       "4430889  3/31/19 23:59  NFLShop - The Official Online Shop of the NFL ...   \n",
       "4430890  3/31/19 23:59  New Uniforms are in! Thanks @Nike @ToBrad1 we ...   \n",
       "4430891  3/31/19 23:59  There's obviously a good chance that I'm going...   \n",
       "4430892  3/31/19 23:59  Check out what I just added to my closet on Po...   \n",
       "\n",
       "                                            polarity_value  neg    pos    neu  \\\n",
       "4430888  {'neg': 0.0, 'neu': 1.0, 'pos': 0.0, 'compound...  0.0  0.000  1.000   \n",
       "4430889  {'neg': 0.0, 'neu': 1.0, 'pos': 0.0, 'compound...  0.0  0.000  1.000   \n",
       "4430890  {'neg': 0.0, 'neu': 0.739, 'pos': 0.261, 'comp...  0.0  0.261  0.739   \n",
       "4430891  {'neg': 0.0, 'neu': 0.712, 'pos': 0.288, 'comp...  0.0  0.288  0.712   \n",
       "4430892  {'neg': 0.0, 'neu': 1.0, 'pos': 0.0, 'compound...  0.0  0.000  1.000   \n",
       "\n",
       "         compound  \n",
       "4430888    0.0000  \n",
       "4430889    0.0000  \n",
       "4430890    0.6467  \n",
       "4430891    0.7964  \n",
       "4430892    0.0000  "
      ]
     },
     "execution_count": 10,
     "metadata": {},
     "output_type": "execute_result"
    }
   ],
   "source": [
    "# Get sentiment values \n",
    "sentiment= SentimentIntensityAnalyzer()\n",
    "data['polarity_value']=\"Default\"\n",
    "data['neg']=0.0\n",
    "data['pos']=0.0\n",
    "data['neu']=0.0\n",
    "data['compound']=0.0\n",
    "for index,row in data.iterrows():\n",
    "    senti = sentiment.polarity_scores(row['text'])\n",
    "    data.set_value(index,'polarity_value',senti)\n",
    "    data.set_value(index,'neg',senti['neg'])\n",
    "    data.set_value(index,'pos',senti['pos'])\n",
    "    data.set_value(index,'neu',senti['neu'])\n",
    "    data.set_value(index,'compound',senti['compound'])\n",
    "data.tail()"
   ]
  },
  {
   "cell_type": "code",
   "execution_count": 11,
   "metadata": {},
   "outputs": [],
   "source": [
    "# Save another local copy to avoid time delays of reprocessing\n",
    "data.to_csv(\"data/Total_Processed_TwitterData_oct18-oct19.csv\")\n",
    "datafile = 'data/Total_Processed_TwitterData_oct18-oct19.csv'"
   ]
  },
  {
   "cell_type": "code",
   "execution_count": 26,
   "metadata": {},
   "outputs": [
    {
     "data": {
      "text/html": [
       "<div>\n",
       "<style scoped>\n",
       "    .dataframe tbody tr th:only-of-type {\n",
       "        vertical-align: middle;\n",
       "    }\n",
       "\n",
       "    .dataframe tbody tr th {\n",
       "        vertical-align: top;\n",
       "    }\n",
       "\n",
       "    .dataframe thead th {\n",
       "        text-align: right;\n",
       "    }\n",
       "</style>\n",
       "<table border=\"1\" class=\"dataframe\">\n",
       "  <thead>\n",
       "    <tr style=\"text-align: right;\">\n",
       "      <th></th>\n",
       "      <th>compound</th>\n",
       "    </tr>\n",
       "    <tr>\n",
       "      <th>date</th>\n",
       "      <th></th>\n",
       "    </tr>\n",
       "  </thead>\n",
       "  <tbody>\n",
       "    <tr>\n",
       "      <td>2018-10-01</td>\n",
       "      <td>0.120344</td>\n",
       "    </tr>\n",
       "    <tr>\n",
       "      <td>2018-10-02</td>\n",
       "      <td>0.121251</td>\n",
       "    </tr>\n",
       "    <tr>\n",
       "      <td>2018-10-03</td>\n",
       "      <td>0.094498</td>\n",
       "    </tr>\n",
       "    <tr>\n",
       "      <td>2018-10-04</td>\n",
       "      <td>0.075090</td>\n",
       "    </tr>\n",
       "    <tr>\n",
       "      <td>2018-10-05</td>\n",
       "      <td>0.013813</td>\n",
       "    </tr>\n",
       "    <tr>\n",
       "      <td>...</td>\n",
       "      <td>...</td>\n",
       "    </tr>\n",
       "    <tr>\n",
       "      <td>2019-10-27</td>\n",
       "      <td>0.129263</td>\n",
       "    </tr>\n",
       "    <tr>\n",
       "      <td>2019-10-28</td>\n",
       "      <td>0.124805</td>\n",
       "    </tr>\n",
       "    <tr>\n",
       "      <td>2019-10-29</td>\n",
       "      <td>0.141668</td>\n",
       "    </tr>\n",
       "    <tr>\n",
       "      <td>2019-10-30</td>\n",
       "      <td>0.109045</td>\n",
       "    </tr>\n",
       "    <tr>\n",
       "      <td>2019-10-31</td>\n",
       "      <td>0.110171</td>\n",
       "    </tr>\n",
       "  </tbody>\n",
       "</table>\n",
       "<p>396 rows × 1 columns</p>\n",
       "</div>"
      ],
      "text/plain": [
       "            compound\n",
       "date                \n",
       "2018-10-01  0.120344\n",
       "2018-10-02  0.121251\n",
       "2018-10-03  0.094498\n",
       "2018-10-04  0.075090\n",
       "2018-10-05  0.013813\n",
       "...              ...\n",
       "2019-10-27  0.129263\n",
       "2019-10-28  0.124805\n",
       "2019-10-29  0.141668\n",
       "2019-10-30  0.109045\n",
       "2019-10-31  0.110171\n",
       "\n",
       "[396 rows x 1 columns]"
      ]
     },
     "execution_count": 26,
     "metadata": {},
     "output_type": "execute_result"
    }
   ],
   "source": [
    "data_scoresOnly = []\n",
    "data_scoresOnly = data[['date','compound']].copy()\n",
    "data_scoresOnly['date'] = pd.to_datetime(data_scoresOnly.date)\n",
    "# data.to_csv(\"data/ScoresOnly_Processed_TwitterData_oct18-oct19.csv\")\n",
    "data_scoresOnly.resample('D', on='date').mean()\n",
    "# data_scoresOnly.head()"
   ]
  },
  {
   "cell_type": "code",
   "execution_count": 13,
   "metadata": {},
   "outputs": [],
   "source": [
    "data_weekdayScores = data_scoresOnly.copy()\n",
    "data_weekdayScores['weekday'] = data_weekdayScores['date'].apply(lambda x: x.weekday())\n",
    "data_weekdayScores = data_weekdayScores.resample('D', on='date').mean()\n",
    "# data_weekdayScores.head(10)"
   ]
  },
  {
   "cell_type": "code",
   "execution_count": 14,
   "metadata": {},
   "outputs": [],
   "source": [
    "data_weekdayScores = data_weekdayScores[data_weekdayScores['weekday'] < 5]"
   ]
  },
  {
   "cell_type": "code",
   "execution_count": 15,
   "metadata": {},
   "outputs": [],
   "source": [
    "data_weekdayScores = data_weekdayScores[[ 'compound']]"
   ]
  },
  {
   "cell_type": "code",
   "execution_count": 16,
   "metadata": {},
   "outputs": [
    {
     "data": {
      "text/html": [
       "<div>\n",
       "<style scoped>\n",
       "    .dataframe tbody tr th:only-of-type {\n",
       "        vertical-align: middle;\n",
       "    }\n",
       "\n",
       "    .dataframe tbody tr th {\n",
       "        vertical-align: top;\n",
       "    }\n",
       "\n",
       "    .dataframe thead th {\n",
       "        text-align: right;\n",
       "    }\n",
       "</style>\n",
       "<table border=\"1\" class=\"dataframe\">\n",
       "  <thead>\n",
       "    <tr style=\"text-align: right;\">\n",
       "      <th></th>\n",
       "      <th>compound</th>\n",
       "    </tr>\n",
       "    <tr>\n",
       "      <th>date</th>\n",
       "      <th></th>\n",
       "    </tr>\n",
       "  </thead>\n",
       "  <tbody>\n",
       "    <tr>\n",
       "      <td>2018-10-01</td>\n",
       "      <td>0.120344</td>\n",
       "    </tr>\n",
       "    <tr>\n",
       "      <td>2018-10-02</td>\n",
       "      <td>0.121251</td>\n",
       "    </tr>\n",
       "    <tr>\n",
       "      <td>2018-10-03</td>\n",
       "      <td>0.094498</td>\n",
       "    </tr>\n",
       "    <tr>\n",
       "      <td>2018-10-04</td>\n",
       "      <td>0.075090</td>\n",
       "    </tr>\n",
       "    <tr>\n",
       "      <td>2018-10-05</td>\n",
       "      <td>0.013813</td>\n",
       "    </tr>\n",
       "  </tbody>\n",
       "</table>\n",
       "</div>"
      ],
      "text/plain": [
       "            compound\n",
       "date                \n",
       "2018-10-01  0.120344\n",
       "2018-10-02  0.121251\n",
       "2018-10-03  0.094498\n",
       "2018-10-04  0.075090\n",
       "2018-10-05  0.013813"
      ]
     },
     "execution_count": 16,
     "metadata": {},
     "output_type": "execute_result"
    }
   ],
   "source": [
    "data1 = data_weekdayScores.copy()\n",
    "data1.head()"
   ]
  },
  {
   "cell_type": "code",
   "execution_count": 17,
   "metadata": {},
   "outputs": [
    {
     "data": {
      "text/plain": [
       "<matplotlib.legend.Legend at 0x1b6f9db5c0>"
      ]
     },
     "execution_count": 17,
     "metadata": {},
     "output_type": "execute_result"
    },
    {
     "data": {
      "image/png": "[encoded data removed]",
      "text/plain": [
       "<Figure size 1296x360 with 1 Axes>"
      ]
     },
     "metadata": {
      "needs_background": "light"
     },
     "output_type": "display_data"
    }
   ],
   "source": [
    "rcParams['figure.figsize'] = 18, 5\n",
    "plt.plot(data1.index, data1['compound'], color='blue', label='compound')\n",
    "# plt.plot(data1.index, data1['pos'], color='red', label='pos')\n",
    "# plt.plot(data1.index, data1['neg'], color='green', label='neg')\n",
    "plt.title('Twitter Emotion')\n",
    "plt.ylabel('Score')\n",
    "plt.legend()"
   ]
  },
  {
   "cell_type": "markdown",
   "metadata": {},
   "source": [
    "# Start Finance\n"
   ]
  },
  {
   "cell_type": "code",
   "execution_count": 18,
   "metadata": {},
   "outputs": [],
   "source": [
    "start=datetime(2018,10,1)\n",
    "end=datetime(2019,10,30)\n",
    "df = web.DataReader(['NKE'], 'yahoo', start, end)"
   ]
  },
  {
   "cell_type": "code",
   "execution_count": 1,
   "metadata": {},
   "outputs": [
    {
     "ename": "NameError",
     "evalue": "name 'df' is not defined",
     "output_type": "error",
     "traceback": [
      "\u001b[0;31m---------------------------------------------------------------------------\u001b[0m",
      "\u001b[0;31mNameError\u001b[0m                                 Traceback (most recent call last)",
      "\u001b[0;32m<ipython-input-1-a27ed437ed2a>\u001b[0m in \u001b[0;36m<module>\u001b[0;34m\u001b[0m\n\u001b[0;32m----> 1\u001b[0;31m \u001b[0mdf\u001b[0m\u001b[0;34m[\u001b[0m\u001b[0;34m'datetime'\u001b[0m\u001b[0;34m]\u001b[0m\u001b[0;34m=\u001b[0m\u001b[0mdf\u001b[0m\u001b[0;34m.\u001b[0m\u001b[0mindex\u001b[0m\u001b[0;34m\u001b[0m\u001b[0;34m\u001b[0m\u001b[0m\n\u001b[0m\u001b[1;32m      2\u001b[0m \u001b[0mdf\u001b[0m\u001b[0;34m[\u001b[0m\u001b[0;34m'datetime'\u001b[0m\u001b[0;34m]\u001b[0m \u001b[0;34m=\u001b[0m \u001b[0mpd\u001b[0m\u001b[0;34m.\u001b[0m\u001b[0mto_datetime\u001b[0m\u001b[0;34m(\u001b[0m\u001b[0mdf\u001b[0m\u001b[0;34m[\u001b[0m\u001b[0;34m'datetime'\u001b[0m\u001b[0;34m]\u001b[0m\u001b[0;34m)\u001b[0m\u001b[0;34m\u001b[0m\u001b[0;34m\u001b[0m\u001b[0m\n\u001b[1;32m      3\u001b[0m \u001b[0mdf1\u001b[0m\u001b[0;34m=\u001b[0m\u001b[0mdf\u001b[0m\u001b[0;34m.\u001b[0m\u001b[0mset_index\u001b[0m\u001b[0;34m(\u001b[0m\u001b[0;34m\"datetime\"\u001b[0m\u001b[0;34m)\u001b[0m\u001b[0;34m.\u001b[0m\u001b[0mcopy\u001b[0m\u001b[0;34m(\u001b[0m\u001b[0;34m)\u001b[0m\u001b[0;34m\u001b[0m\u001b[0;34m\u001b[0m\u001b[0m\n\u001b[1;32m      4\u001b[0m \u001b[0mdf1\u001b[0m\u001b[0;34m.\u001b[0m\u001b[0mhead\u001b[0m\u001b[0;34m(\u001b[0m\u001b[0;34m)\u001b[0m\u001b[0;34m\u001b[0m\u001b[0;34m\u001b[0m\u001b[0m\n\u001b[1;32m      5\u001b[0m \u001b[0mdf1\u001b[0m\u001b[0;34m[\u001b[0m\u001b[0;34m'date'\u001b[0m\u001b[0;34m]\u001b[0m\u001b[0;34m=\u001b[0m\u001b[0mdf\u001b[0m\u001b[0;34m[\u001b[0m\u001b[0;34m'datetime'\u001b[0m\u001b[0;34m]\u001b[0m \u001b[0;31m# replace with a common name date\u001b[0m\u001b[0;34m\u001b[0m\u001b[0;34m\u001b[0m\u001b[0m\n",
      "\u001b[0;31mNameError\u001b[0m: name 'df' is not defined"
     ]
    }
   ],
   "source": [
    "df['datetime']=df.index\n",
    "df['datetime'] = pd.to_datetime(df['datetime'])\n",
    "df1=df.set_index(\"datetime\").copy()\n",
    "df1.head()\n",
    "df1['date']=df['datetime'] # replace with a common name date\n",
    "df1.head(100)"
   ]
  },
  {
   "cell_type": "code",
   "execution_count": 20,
   "metadata": {},
   "outputs": [
    {
     "data": {
      "text/html": [
       "<div>\n",
       "<style scoped>\n",
       "    .dataframe tbody tr th:only-of-type {\n",
       "        vertical-align: middle;\n",
       "    }\n",
       "\n",
       "    .dataframe tbody tr th {\n",
       "        vertical-align: top;\n",
       "    }\n",
       "\n",
       "    .dataframe thead th {\n",
       "        text-align: right;\n",
       "    }\n",
       "</style>\n",
       "<table border=\"1\" class=\"dataframe\">\n",
       "  <thead>\n",
       "    <tr style=\"text-align: right;\">\n",
       "      <th>Symbols</th>\n",
       "      <th>NKE</th>\n",
       "      <th>date</th>\n",
       "    </tr>\n",
       "    <tr>\n",
       "      <th>datetime</th>\n",
       "      <th></th>\n",
       "      <th></th>\n",
       "    </tr>\n",
       "  </thead>\n",
       "  <tbody>\n",
       "    <tr>\n",
       "      <td>2018-10-01</td>\n",
       "      <td>NaN</td>\n",
       "      <td>2018-10-01</td>\n",
       "    </tr>\n",
       "    <tr>\n",
       "      <td>2018-10-02</td>\n",
       "      <td>-0.020010</td>\n",
       "      <td>2018-10-02</td>\n",
       "    </tr>\n",
       "    <tr>\n",
       "      <td>2018-10-03</td>\n",
       "      <td>-0.003262</td>\n",
       "      <td>2018-10-03</td>\n",
       "    </tr>\n",
       "    <tr>\n",
       "      <td>2018-10-04</td>\n",
       "      <td>-0.028121</td>\n",
       "      <td>2018-10-04</td>\n",
       "    </tr>\n",
       "    <tr>\n",
       "      <td>2018-10-05</td>\n",
       "      <td>-0.000748</td>\n",
       "      <td>2018-10-05</td>\n",
       "    </tr>\n",
       "  </tbody>\n",
       "</table>\n",
       "</div>"
      ],
      "text/plain": [
       "Symbols          NKE       date\n",
       "datetime                       \n",
       "2018-10-01       NaN 2018-10-01\n",
       "2018-10-02 -0.020010 2018-10-02\n",
       "2018-10-03 -0.003262 2018-10-03\n",
       "2018-10-04 -0.028121 2018-10-04\n",
       "2018-10-05 -0.000748 2018-10-05"
      ]
     },
     "execution_count": 20,
     "metadata": {},
     "output_type": "execute_result"
    }
   ],
   "source": [
    "new_df = df1['Adj Close'].pct_change()\n",
    "new_df['date']=df['datetime']\n",
    "new_df.fillna(method='ffill')\n",
    "new_df.head()"
   ]
  },
  {
   "cell_type": "code",
   "execution_count": 21,
   "metadata": {
    "scrolled": true
   },
   "outputs": [
    {
     "data": {
      "image/png": "[encoded data removed]",
      "text/plain": [
       "<Figure size 1296x360 with 2 Axes>"
      ]
     },
     "metadata": {
      "needs_background": "light"
     },
     "output_type": "display_data"
    }
   ],
   "source": [
    "fig, ax1 = plt.subplots()\n",
    "ax1.set_xlabel('Date')\n",
    "ax1.set_ylabel('Sentiment')\n",
    "ax1.plot(data1.index, data1['compound'], color = 'r')\n",
    "ax1.tick_params(axis='y', labelcolor='r')\n",
    "\n",
    "ax2 = ax1.twinx()\n",
    "ax2.set_ylabel('Closing Price')\n",
    "ax2.plot(df.index, df['Adj Close'], color = 'b')\n",
    "ax2.tick_params(axis='y', labelcolor='b')\n",
    "fig.tight_layout()\n",
    "plt.show()"
   ]
  },
  {
   "cell_type": "markdown",
   "metadata": {},
   "source": [
    "# Modeling"
   ]
  },
  {
   "cell_type": "code",
   "execution_count": 22,
   "metadata": {},
   "outputs": [],
   "source": [
    "# To Do\n",
    "# Make DF of compound scores and adjusted close (Or whatever other metrics we want to try)\n",
    "# Train test split\n",
    "# Start modeling where Adj Close is our target, compound is our feature\n"
   ]
  },
  {
   "cell_type": "code",
   "execution_count": 23,
   "metadata": {},
   "outputs": [],
   "source": [
    "model_df = df1['Adj Close'].copy()\n",
    "model_df['compound'] = data1['compound']\n",
    "model_df = model_df.fillna(method='ffill')"
   ]
  },
  {
   "cell_type": "code",
   "execution_count": 24,
   "metadata": {},
   "outputs": [
    {
     "data": {
      "text/html": [
       "<div>\n",
       "<style scoped>\n",
       "    .dataframe tbody tr th:only-of-type {\n",
       "        vertical-align: middle;\n",
       "    }\n",
       "\n",
       "    .dataframe tbody tr th {\n",
       "        vertical-align: top;\n",
       "    }\n",
       "\n",
       "    .dataframe thead th {\n",
       "        text-align: right;\n",
       "    }\n",
       "</style>\n",
       "<table border=\"1\" class=\"dataframe\">\n",
       "  <thead>\n",
       "    <tr style=\"text-align: right;\">\n",
       "      <th>Symbols</th>\n",
       "      <th>NKE</th>\n",
       "      <th>compound</th>\n",
       "      <th>date</th>\n",
       "    </tr>\n",
       "    <tr>\n",
       "      <th>datetime</th>\n",
       "      <th></th>\n",
       "      <th></th>\n",
       "      <th></th>\n",
       "    </tr>\n",
       "  </thead>\n",
       "  <tbody>\n",
       "    <tr>\n",
       "      <td>2018-10-01</td>\n",
       "      <td>83.327553</td>\n",
       "      <td>0.120344</td>\n",
       "      <td>2018-10-01</td>\n",
       "    </tr>\n",
       "    <tr>\n",
       "      <td>2018-10-02</td>\n",
       "      <td>81.660210</td>\n",
       "      <td>0.121251</td>\n",
       "      <td>2018-10-02</td>\n",
       "    </tr>\n",
       "    <tr>\n",
       "      <td>2018-10-03</td>\n",
       "      <td>81.393837</td>\n",
       "      <td>0.094498</td>\n",
       "      <td>2018-10-03</td>\n",
       "    </tr>\n",
       "    <tr>\n",
       "      <td>2018-10-04</td>\n",
       "      <td>79.104950</td>\n",
       "      <td>0.075090</td>\n",
       "      <td>2018-10-04</td>\n",
       "    </tr>\n",
       "    <tr>\n",
       "      <td>2018-10-05</td>\n",
       "      <td>79.045753</td>\n",
       "      <td>0.013813</td>\n",
       "      <td>2018-10-05</td>\n",
       "    </tr>\n",
       "    <tr>\n",
       "      <td>2018-10-08</td>\n",
       "      <td>79.154282</td>\n",
       "      <td>0.112978</td>\n",
       "      <td>2018-10-08</td>\n",
       "    </tr>\n",
       "    <tr>\n",
       "      <td>2018-10-09</td>\n",
       "      <td>79.341728</td>\n",
       "      <td>0.131499</td>\n",
       "      <td>2018-10-09</td>\n",
       "    </tr>\n",
       "    <tr>\n",
       "      <td>2018-10-10</td>\n",
       "      <td>73.935204</td>\n",
       "      <td>0.136931</td>\n",
       "      <td>2018-10-10</td>\n",
       "    </tr>\n",
       "    <tr>\n",
       "      <td>2018-10-11</td>\n",
       "      <td>73.510971</td>\n",
       "      <td>0.146459</td>\n",
       "      <td>2018-10-11</td>\n",
       "    </tr>\n",
       "    <tr>\n",
       "      <td>2018-10-12</td>\n",
       "      <td>74.892197</td>\n",
       "      <td>0.135273</td>\n",
       "      <td>2018-10-12</td>\n",
       "    </tr>\n",
       "  </tbody>\n",
       "</table>\n",
       "</div>"
      ],
      "text/plain": [
       "Symbols           NKE  compound       date\n",
       "datetime                                  \n",
       "2018-10-01  83.327553  0.120344 2018-10-01\n",
       "2018-10-02  81.660210  0.121251 2018-10-02\n",
       "2018-10-03  81.393837  0.094498 2018-10-03\n",
       "2018-10-04  79.104950  0.075090 2018-10-04\n",
       "2018-10-05  79.045753  0.013813 2018-10-05\n",
       "2018-10-08  79.154282  0.112978 2018-10-08\n",
       "2018-10-09  79.341728  0.131499 2018-10-09\n",
       "2018-10-10  73.935204  0.136931 2018-10-10\n",
       "2018-10-11  73.510971  0.146459 2018-10-11\n",
       "2018-10-12  74.892197  0.135273 2018-10-12"
      ]
     },
     "execution_count": 24,
     "metadata": {},
     "output_type": "execute_result"
    }
   ],
   "source": [
    "model_df['date'] =df['datetime']\n",
    "model_df.to_csv(\"data/Total_Finance_and_Compound_oct18-oct19.csv\")\n",
    "model_df.head(10)\n",
    "\n"
   ]
  },
  {
   "cell_type": "code",
   "execution_count": 31,
   "metadata": {},
   "outputs": [],
   "source": [
    "t1 = time.time()\n",
    "total = t1-t0\n",
    "# ~ 35 Minutes locally"
   ]
  },
  {
   "cell_type": "code",
   "execution_count": null,
   "metadata": {},
   "outputs": [],
   "source": []
  }
 ],
 "metadata": {
  "kernelspec": {
   "display_name": "Python 3",
   "language": "python",
   "name": "python3"
  },
  "language_info": {
   "codemirror_mode": {
    "name": "ipython",
    "version": 3
   },
   "file_extension": ".py",
   "mimetype": "text/x-python",
   "name": "python",
   "nbconvert_exporter": "python",
   "pygments_lexer": "ipython3",
   "version": "3.7.3"
  }
 },
 "nbformat": 4,
 "nbformat_minor": 2
}
